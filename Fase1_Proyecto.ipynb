{
  "cells": [
    {
      "cell_type": "markdown",
      "metadata": {},
      "source": [
        " # Proyecto: Estimación de Niveles de Obesidad\n",
        "\n",
        " **Notebook 1: Limpieza, Análisis Exploratorio (EDA) y Preprocesamiento de Datos**\n",
        "\n",
        " ---\n",
        "\n",
        " ## Objetivo\n",
        "\n",
        " Este notebook tiene como objetivo principal realizar las siguientes tareas:\n",
        " 1.  **Cargar los datos**: Se cargarán dos versiones del dataset, una \"sucia\" (`modified`) y una \"limpia\" (`original`).\n",
        " 2.  **Limpieza de Datos**: Aplicar un proceso de limpieza exhaustivo al dataset `modified` para corregir inconsistencias, valores nulos, duplicados y outliers.\n",
        " 3.  **Validación**: Comparar nuestro dataset limpio con el `original` para validar la efectividad del proceso de limpieza.\n",
        " 4.  **Análisis Exploratorio de Datos (EDA)**: Realizar un análisis profundo sobre el dataset limpio para entender las relaciones entre las variables y la variable objetivo (`NObeyesdad`).\n",
        " 5.  **Preprocesamiento**: Preparar los datos para la fase de modelado, incluyendo codificación de variables categóricas y escalado de datos numéricos.\n",
        "\n",
        "## Setup e importaciones"
      ]
    },
    {
      "cell_type": "markdown",
      "metadata": {
        "id": "ITKvvdddfDhU"
      },
      "source": [
        "Este bloque crea la estructura básica del proyecto.\n",
        "\n",
        "Path permite mantener rutas portables y organizadas.\n",
        "\n",
        "Se define una carpeta data_outputs/ donde se guardarán los archivos procesados, garantizando trazabilidad y reproducibilidad.\n",
        "\n",
        "Los nombres de salida siguen una convención clara (clean, ml_ready, etc.), alineada con buenas prácticas de versionado."
      ]
    },
    {
      "cell_type": "code",
      "execution_count": 1,
      "metadata": {
        "id": "pX5eC-jsRxXv"
      },
      "outputs": [],
      "source": [
        "import pandas as pd\n",
        "import numpy as np\n",
        "import re\n",
        "from pathlib import Path\n",
        "import matplotlib.pyplot as plt\n",
        "import seaborn as sns\n",
        "import os\n",
        "\n",
        "#Rutas\n",
        "os.makedirs('data/raw', exist_ok=True)\n",
        "os.makedirs('data/processed', exist_ok=True)\n",
        "\n",
        "IN_DIR = Path(\"data/raw\")\n",
        "OUT_DIR = Path(\"data/processed\")\n",
        "\n",
        "#Ruta del CSV crudo\n",
        "RAW_PATH = IN_DIR / \"obesity_estimation_modified.csv\"\n",
        "ORIGINAL_PATH = IN_DIR / \"obesity_estimation_original.csv\"\n",
        "\n",
        "\n",
        "\n",
        "CLEAN_PATH = OUT_DIR / \"obesity_clean.csv\"\n",
        "ML_READY_PATH = OUT_DIR / \"obesity_ml_ready.csv\"\n",
        "LABEL_MAP_PATH = OUT_DIR / \"label_map_nobeyesdad.csv\"\n",
        "DATA_DICT_PATH = OUT_DIR / \"obesity_data_dictionary.csv\"\n"
      ]
    },
    {
      "cell_type": "markdown",
      "metadata": {
        "id": "ACBUZXj-fd2Q"
      },
      "source": [
        "## **1. Carga y perfilado rápido del dataset**"
      ]
    },
    {
      "cell_type": "markdown",
      "metadata": {
        "id": "HRvJ4EUKfNzN"
      },
      "source": [
        "Se realiza un análisis exploratorio inicial (EDA técnico) para conocer dimensiones, columnas y grado de faltantes.\n",
        "\n",
        "Es esencial para detectar problemas estructurales como los hallados: 241 nulos en mixed_type_col, valores imposibles en height y weight, y categorías inconsistentes.\n",
        "\n",
        "Permite definir las estrategias de limpieza posteriores con evidencia, no por intuición."
      ]
    },
    {
      "cell_type": "code",
      "execution_count": 2,
      "metadata": {
        "colab": {
          "base_uri": "https://localhost:8080/",
          "height": 1000
        },
        "id": "HGPubwzLTdqD",
        "outputId": "d1e47d63-d551-4039-a1b6-800645f4226f"
      },
      "outputs": [
        {
          "name": "stdout",
          "output_type": "stream",
          "text": [
            "Shape: (2153, 18)\n",
            "Columns: ['Gender', 'Age', 'Height', 'Weight', 'family_history_with_overweight', 'FAVC', 'FCVC', 'NCP', 'CAEC', 'SMOKE', 'CH2O', 'SCC', 'FAF', 'TUE', 'CALC', 'MTRANS', 'NObeyesdad', 'mixed_type_col']\n",
            "\n",
            "Nulls per column:\n",
            " mixed_type_col                    241\n",
            "TUE                                33\n",
            "FAF                                29\n",
            "CH2O                               29\n",
            "Height                             28\n",
            "Age                                27\n",
            "NCP                                24\n",
            "MTRANS                             23\n",
            "CALC                               23\n",
            "CAEC                               22\n",
            "NObeyesdad                         20\n",
            "family_history_with_overweight     20\n",
            "SMOKE                              19\n",
            "Gender                             18\n",
            "FCVC                               17\n",
            "FAVC                               16\n",
            "Weight                             16\n",
            "SCC                                15\n",
            "dtype: int64\n"
          ]
        }
      ],
      "source": [
        "df_raw = pd.read_csv(RAW_PATH)\n",
        "print(\"Shape:\", df_raw.shape)\n",
        "print(\"Columns:\", list(df_raw.columns))\n",
        "print(\"\\nNulls per column:\\n\", df_raw.isna().sum().sort_values(ascending=False))"
      ]
    },
    {
      "cell_type": "code",
      "execution_count": 3,
      "metadata": {},
      "outputs": [
        {
          "name": "stdout",
          "output_type": "stream",
          "text": [
            "Vista previa del dataset sucio:\n"
          ]
        },
        {
          "data": {
            "text/html": [
              "<div>\n",
              "<style scoped>\n",
              "    .dataframe tbody tr th:only-of-type {\n",
              "        vertical-align: middle;\n",
              "    }\n",
              "\n",
              "    .dataframe tbody tr th {\n",
              "        vertical-align: top;\n",
              "    }\n",
              "\n",
              "    .dataframe thead th {\n",
              "        text-align: right;\n",
              "    }\n",
              "</style>\n",
              "<table border=\"1\" class=\"dataframe\">\n",
              "  <thead>\n",
              "    <tr style=\"text-align: right;\">\n",
              "      <th></th>\n",
              "      <th>Gender</th>\n",
              "      <th>Age</th>\n",
              "      <th>Height</th>\n",
              "      <th>Weight</th>\n",
              "      <th>family_history_with_overweight</th>\n",
              "      <th>FAVC</th>\n",
              "      <th>FCVC</th>\n",
              "      <th>NCP</th>\n",
              "      <th>CAEC</th>\n",
              "      <th>SMOKE</th>\n",
              "      <th>CH2O</th>\n",
              "      <th>SCC</th>\n",
              "      <th>FAF</th>\n",
              "      <th>TUE</th>\n",
              "      <th>CALC</th>\n",
              "      <th>MTRANS</th>\n",
              "      <th>NObeyesdad</th>\n",
              "      <th>mixed_type_col</th>\n",
              "    </tr>\n",
              "  </thead>\n",
              "  <tbody>\n",
              "    <tr>\n",
              "      <th>0</th>\n",
              "      <td>Female</td>\n",
              "      <td>21.0</td>\n",
              "      <td>1.62</td>\n",
              "      <td>64.0</td>\n",
              "      <td>yes</td>\n",
              "      <td>no</td>\n",
              "      <td>2.0</td>\n",
              "      <td>3.0</td>\n",
              "      <td>Sometimes</td>\n",
              "      <td>no</td>\n",
              "      <td>2.0</td>\n",
              "      <td>no</td>\n",
              "      <td>0.0</td>\n",
              "      <td>1.0</td>\n",
              "      <td>NO</td>\n",
              "      <td>Public_Transportation</td>\n",
              "      <td>Normal_Weight</td>\n",
              "      <td>bad</td>\n",
              "    </tr>\n",
              "    <tr>\n",
              "      <th>1</th>\n",
              "      <td>Female</td>\n",
              "      <td>21.0</td>\n",
              "      <td>1.52</td>\n",
              "      <td>56.0</td>\n",
              "      <td>yes</td>\n",
              "      <td>no</td>\n",
              "      <td>3.0</td>\n",
              "      <td>3.0</td>\n",
              "      <td>Sometimes</td>\n",
              "      <td>yes</td>\n",
              "      <td>3.0</td>\n",
              "      <td>yes</td>\n",
              "      <td>3.0</td>\n",
              "      <td>0.0</td>\n",
              "      <td>Sometimes</td>\n",
              "      <td>Public_Transportation</td>\n",
              "      <td>nORMAL_wEIGHT</td>\n",
              "      <td>NaN</td>\n",
              "    </tr>\n",
              "    <tr>\n",
              "      <th>2</th>\n",
              "      <td>Male</td>\n",
              "      <td>23.0</td>\n",
              "      <td>1.8</td>\n",
              "      <td>77.0</td>\n",
              "      <td>yes</td>\n",
              "      <td>no</td>\n",
              "      <td>2.0</td>\n",
              "      <td>3.0</td>\n",
              "      <td>Sometimes</td>\n",
              "      <td>no</td>\n",
              "      <td>2.0</td>\n",
              "      <td>no</td>\n",
              "      <td>2.0</td>\n",
              "      <td>1.0</td>\n",
              "      <td>Frequently</td>\n",
              "      <td>Public_Transportation</td>\n",
              "      <td>Normal_Weight</td>\n",
              "      <td>208</td>\n",
              "    </tr>\n",
              "    <tr>\n",
              "      <th>3</th>\n",
              "      <td>Male</td>\n",
              "      <td>27.0</td>\n",
              "      <td>1.8</td>\n",
              "      <td>87.0</td>\n",
              "      <td>no</td>\n",
              "      <td>no</td>\n",
              "      <td>3.0</td>\n",
              "      <td>3.0</td>\n",
              "      <td>Sometimes</td>\n",
              "      <td>no</td>\n",
              "      <td>2.0</td>\n",
              "      <td>no</td>\n",
              "      <td>2.0</td>\n",
              "      <td>0.0</td>\n",
              "      <td>Frequently</td>\n",
              "      <td>Walking</td>\n",
              "      <td>oVERWEIGHT_lEVEL_i</td>\n",
              "      <td>585</td>\n",
              "    </tr>\n",
              "    <tr>\n",
              "      <th>4</th>\n",
              "      <td>Male</td>\n",
              "      <td>22.0</td>\n",
              "      <td>1.78</td>\n",
              "      <td>89.8</td>\n",
              "      <td>no</td>\n",
              "      <td>no</td>\n",
              "      <td>2.0</td>\n",
              "      <td>1.0</td>\n",
              "      <td>Sometimes</td>\n",
              "      <td>no</td>\n",
              "      <td>2.0</td>\n",
              "      <td>no</td>\n",
              "      <td>0.0</td>\n",
              "      <td>0.0</td>\n",
              "      <td>Sometimes</td>\n",
              "      <td>Public_Transportation</td>\n",
              "      <td>Overweight_Level_II</td>\n",
              "      <td>200</td>\n",
              "    </tr>\n",
              "  </tbody>\n",
              "</table>\n",
              "</div>"
            ],
            "text/plain": [
              "   Gender   Age Height Weight family_history_with_overweight FAVC FCVC  NCP  \\\n",
              "0  Female  21.0   1.62   64.0                            yes   no  2.0  3.0   \n",
              "1  Female  21.0   1.52   56.0                            yes   no  3.0  3.0   \n",
              "2    Male  23.0    1.8   77.0                            yes   no  2.0  3.0   \n",
              "3    Male  27.0    1.8   87.0                             no   no  3.0  3.0   \n",
              "4    Male  22.0   1.78   89.8                             no   no  2.0  1.0   \n",
              "\n",
              "        CAEC SMOKE CH2O  SCC    FAF    TUE        CALC                 MTRANS  \\\n",
              "0  Sometimes    no  2.0   no    0.0    1.0         NO   Public_Transportation   \n",
              "1  Sometimes   yes  3.0  yes   3.0    0.0    Sometimes  Public_Transportation   \n",
              "2  Sometimes    no  2.0   no    2.0    1.0  Frequently  Public_Transportation   \n",
              "3  Sometimes    no  2.0   no    2.0    0.0  Frequently                Walking   \n",
              "4  Sometimes    no  2.0   no   0.0    0.0    Sometimes  Public_Transportation   \n",
              "\n",
              "             NObeyesdad mixed_type_col  \n",
              "0         Normal_Weight            bad  \n",
              "1        nORMAL_wEIGHT             NaN  \n",
              "2         Normal_Weight            208  \n",
              "3   oVERWEIGHT_lEVEL_i             585  \n",
              "4   Overweight_Level_II            200  "
            ]
          },
          "execution_count": 3,
          "metadata": {},
          "output_type": "execute_result"
        }
      ],
      "source": [
        "print(\"Vista previa del dataset sucio:\")\n",
        "df_raw.head()"
      ]
    },
    {
      "cell_type": "code",
      "execution_count": 4,
      "metadata": {},
      "outputs": [
        {
          "name": "stdout",
          "output_type": "stream",
          "text": [
            "\n",
            "Información general del dataset sucio:\n"
          ]
        },
        {
          "data": {
            "text/html": [
              "<div>\n",
              "<style scoped>\n",
              "    .dataframe tbody tr th:only-of-type {\n",
              "        vertical-align: middle;\n",
              "    }\n",
              "\n",
              "    .dataframe tbody tr th {\n",
              "        vertical-align: top;\n",
              "    }\n",
              "\n",
              "    .dataframe thead th {\n",
              "        text-align: right;\n",
              "    }\n",
              "</style>\n",
              "<table border=\"1\" class=\"dataframe\">\n",
              "  <thead>\n",
              "    <tr style=\"text-align: right;\">\n",
              "      <th></th>\n",
              "      <th>count</th>\n",
              "      <th>unique</th>\n",
              "      <th>top</th>\n",
              "      <th>freq</th>\n",
              "    </tr>\n",
              "  </thead>\n",
              "  <tbody>\n",
              "    <tr>\n",
              "      <th>Gender</th>\n",
              "      <td>2135</td>\n",
              "      <td>4</td>\n",
              "      <td>Male</td>\n",
              "      <td>1040</td>\n",
              "    </tr>\n",
              "    <tr>\n",
              "      <th>Age</th>\n",
              "      <td>2126</td>\n",
              "      <td>1410</td>\n",
              "      <td>18.0</td>\n",
              "      <td>120</td>\n",
              "    </tr>\n",
              "    <tr>\n",
              "      <th>Height</th>\n",
              "      <td>2125</td>\n",
              "      <td>1572</td>\n",
              "      <td>1.7</td>\n",
              "      <td>55</td>\n",
              "    </tr>\n",
              "    <tr>\n",
              "      <th>Weight</th>\n",
              "      <td>2137</td>\n",
              "      <td>1551</td>\n",
              "      <td>80.0</td>\n",
              "      <td>56</td>\n",
              "    </tr>\n",
              "    <tr>\n",
              "      <th>family_history_with_overweight</th>\n",
              "      <td>2133</td>\n",
              "      <td>5</td>\n",
              "      <td>yes</td>\n",
              "      <td>1662</td>\n",
              "    </tr>\n",
              "    <tr>\n",
              "      <th>FAVC</th>\n",
              "      <td>2137</td>\n",
              "      <td>4</td>\n",
              "      <td>yes</td>\n",
              "      <td>1813</td>\n",
              "    </tr>\n",
              "    <tr>\n",
              "      <th>FCVC</th>\n",
              "      <td>2136</td>\n",
              "      <td>818</td>\n",
              "      <td>3.0</td>\n",
              "      <td>616</td>\n",
              "    </tr>\n",
              "    <tr>\n",
              "      <th>NCP</th>\n",
              "      <td>2129</td>\n",
              "      <td>646</td>\n",
              "      <td>3.0</td>\n",
              "      <td>1146</td>\n",
              "    </tr>\n",
              "    <tr>\n",
              "      <th>CAEC</th>\n",
              "      <td>2131</td>\n",
              "      <td>8</td>\n",
              "      <td>Sometimes</td>\n",
              "      <td>1677</td>\n",
              "    </tr>\n",
              "    <tr>\n",
              "      <th>SMOKE</th>\n",
              "      <td>2134</td>\n",
              "      <td>5</td>\n",
              "      <td>no</td>\n",
              "      <td>1993</td>\n",
              "    </tr>\n",
              "    <tr>\n",
              "      <th>CH2O</th>\n",
              "      <td>2124</td>\n",
              "      <td>1269</td>\n",
              "      <td>2.0</td>\n",
              "      <td>425</td>\n",
              "    </tr>\n",
              "    <tr>\n",
              "      <th>SCC</th>\n",
              "      <td>2138</td>\n",
              "      <td>4</td>\n",
              "      <td>no</td>\n",
              "      <td>1924</td>\n",
              "    </tr>\n",
              "    <tr>\n",
              "      <th>FAF</th>\n",
              "      <td>2124</td>\n",
              "      <td>1196</td>\n",
              "      <td>0.0</td>\n",
              "      <td>386</td>\n",
              "    </tr>\n",
              "    <tr>\n",
              "      <th>TUE</th>\n",
              "      <td>2120</td>\n",
              "      <td>1129</td>\n",
              "      <td>0.0</td>\n",
              "      <td>521</td>\n",
              "    </tr>\n",
              "    <tr>\n",
              "      <th>CALC</th>\n",
              "      <td>2130</td>\n",
              "      <td>8</td>\n",
              "      <td>Sometimes</td>\n",
              "      <td>1343</td>\n",
              "    </tr>\n",
              "    <tr>\n",
              "      <th>MTRANS</th>\n",
              "      <td>2130</td>\n",
              "      <td>9</td>\n",
              "      <td>Public_Transportation</td>\n",
              "      <td>1512</td>\n",
              "    </tr>\n",
              "    <tr>\n",
              "      <th>NObeyesdad</th>\n",
              "      <td>2133</td>\n",
              "      <td>15</td>\n",
              "      <td>Obesity_Type_I</td>\n",
              "      <td>337</td>\n",
              "    </tr>\n",
              "    <tr>\n",
              "      <th>mixed_type_col</th>\n",
              "      <td>1912</td>\n",
              "      <td>775</td>\n",
              "      <td>unknown</td>\n",
              "      <td>231</td>\n",
              "    </tr>\n",
              "  </tbody>\n",
              "</table>\n",
              "</div>"
            ],
            "text/plain": [
              "                               count unique                    top  freq\n",
              "Gender                          2135      4                   Male  1040\n",
              "Age                             2126   1410                   18.0   120\n",
              "Height                          2125   1572                    1.7    55\n",
              "Weight                          2137   1551                   80.0    56\n",
              "family_history_with_overweight  2133      5                    yes  1662\n",
              "FAVC                            2137      4                    yes  1813\n",
              "FCVC                            2136    818                    3.0   616\n",
              "NCP                             2129    646                    3.0  1146\n",
              "CAEC                            2131      8              Sometimes  1677\n",
              "SMOKE                           2134      5                     no  1993\n",
              "CH2O                            2124   1269                    2.0   425\n",
              "SCC                             2138      4                     no  1924\n",
              "FAF                             2124   1196                    0.0   386\n",
              "TUE                             2120   1129                    0.0   521\n",
              "CALC                            2130      8              Sometimes  1343\n",
              "MTRANS                          2130      9  Public_Transportation  1512\n",
              "NObeyesdad                      2133     15         Obesity_Type_I   337\n",
              "mixed_type_col                  1912    775                unknown   231"
            ]
          },
          "execution_count": 4,
          "metadata": {},
          "output_type": "execute_result"
        }
      ],
      "source": [
        "print(\"\\nInformación general del dataset sucio:\")\n",
        "df_raw.describe().T"
      ]
    },
    {
      "cell_type": "markdown",
      "metadata": {},
      "source": [
        " ---\n",
        " \n",
        " ## **2. Proceso de Limpieza de Datos**\n"
      ]
    },
    {
      "cell_type": "markdown",
      "metadata": {
        "id": "tyXiRZo1fujg"
      },
      "source": [
        "#### **Normalización de nombres y categorías**"
      ]
    },
    {
      "cell_type": "markdown",
      "metadata": {
        "id": "_JpOi_RQfyH_"
      },
      "source": [
        "Los nombres del dataset modified venían con espacios, mayúsculas y guiones.\n",
        "\n",
        "Convertirlos a snake_case evita errores al invocar columnas y mejora la estandarización entre datasets\n",
        "\n",
        "Esta función asegura consistencia semántica y legibilidad dentro del pipeline."
      ]
    },
    {
      "cell_type": "code",
      "execution_count": 5,
      "metadata": {
        "id": "RTUtCSWDT3QV"
      },
      "outputs": [],
      "source": [
        "\n",
        "def normalize_col(s: str) -> str:\n",
        "    \"\"\"snake_case: quita espacios/guiones y minúsculas.\"\"\"\n",
        "    s = s.strip()\n",
        "    s = re.sub(r\"\\s+\", \"_\", s)      # espacios -> _\n",
        "    s = s.replace(\"-\", \"_\")\n",
        "    s = re.sub(r\"_+\", \"_\", s)\n",
        "    return s.lower()\n",
        "\n"
      ]
    },
    {
      "cell_type": "markdown",
      "metadata": {
        "id": "obW1SaxLf6Bg"
      },
      "source": [
        "#### **Limpieza de columnas categóricas**"
      ]
    },
    {
      "cell_type": "markdown",
      "metadata": {
        "id": "7AnXUVvKf8FU"
      },
      "source": [
        "En el modified, las categorías estaban distorsionadas (\" nORMAL_wEIGHT \", \" YES \", \" NAN \").\n",
        "\n",
        "La función limpia espacios, minúsculas/mayúsculas y errores tipográficos.\n",
        "\n",
        "Normalizar categorías reduce la cardinalidad y evita fugas de información en los modelos (cada error tipográfico contaba como categoría distinta)."
      ]
    },
    {
      "cell_type": "code",
      "execution_count": 6,
      "metadata": {
        "id": "YYpX4IHgfroB"
      },
      "outputs": [],
      "source": [
        "def clean_cat(val):\n",
        "    \"\"\"Limpia categóricos: espacios, guiones, mayúsculas; normaliza yes/no.\"\"\"\n",
        "    if pd.isna(val):\n",
        "        return np.nan\n",
        "    v = str(val).strip()\n",
        "    v = re.sub(r\"\\s+\", \" \", v)\n",
        "    v = v.replace(\"-\", \"_\").replace(\" \", \"_\")\n",
        "    v = re.sub(r\"_+\", \"_\", v).strip(\"_\")\n",
        "    v_low = v.lower()\n",
        "\n",
        "    # normalizar yes/no\n",
        "    if v_low in {\"yes\",\"y\",\"si\",\"sí\",\"s\"}:\n",
        "        return \"Yes\"\n",
        "    if v_low in {\"no\",\"n\"}:\n",
        "        return \"No\"\n",
        "\n",
        "    # correcciones comunes del target\n",
        "    fixes = {\n",
        "        \" nORMAL_wEIGHT \": \"Normal_Weight\",\n",
        "        \" oVERWEIGHT_lEVEL_i \": \"Overweight_Level_I\",\n",
        "        \"overweight_level_i_i\": \"Overweight_Level_II\",\n",
        "        \"obesity_type_i_i\": \"Obesity_Type_II\",\n",
        "        \"obesity_type_i_i_i\": \"Obesity_Type_III\",\n",
        "        \"normal_weight\": \"Normal_Weight\",\n",
        "        \"insufficient_weight\": \"Insufficient_Weight\",\n",
        "    }\n",
        "    if v in fixes:\n",
        "        return fixes[v]\n",
        "\n",
        "    # Title_Case con _\n",
        "    return \"_\".join(w.capitalize() for w in v_low.split(\"_\"))\n"
      ]
    },
    {
      "cell_type": "code",
      "execution_count": 7,
      "metadata": {
        "id": "tAPhAn2PT6h-"
      },
      "outputs": [],
      "source": [
        "df = df_raw.copy()\n",
        "\n",
        "# nombres de columnas a snake_case\n",
        "df.columns = [normalize_col(c) for c in df.columns]\n",
        "\n",
        "# trim a todas las columnas object y convertir \"nan\" string a NaN real\n",
        "for c in df.select_dtypes(include=\"object\").columns:\n",
        "    df[c] = df[c].astype(str).str.strip().replace({\"nan\": np.nan})\n"
      ]
    },
    {
      "cell_type": "markdown",
      "metadata": {},
      "source": [
        " #### **Eliminar columnas innecesarias**\n",
        "\n",
        "mixed_type_col no existe en el dataset original y no tiene valor analítico.\n",
        "\n",
        "Presenta mezcla de tipos (strings, números, NaN) y alta cardinalidad (775 valores distintos), lo que introduce ruido.\n",
        "\n",
        "Su inclusión genera dimensionalidad artificial: al aplicar One-Hot Encoding, puede crear más de 700 columnas irrelevantes, afectando rendimiento y claridad.\n",
        "\n",
        "Eliminarla mantiene la estructura del dataset alineada al original, garantiza reproducibilidad y previene el sobreajuste."
      ]
    },
    {
      "cell_type": "code",
      "execution_count": 8,
      "metadata": {},
      "outputs": [
        {
          "name": "stdout",
          "output_type": "stream",
          "text": [
            "0        bad\n",
            "1        NaN\n",
            "2        208\n",
            "3        585\n",
            "4        200\n",
            "5        803\n",
            "6        642\n",
            "7        199\n",
            "8        990\n",
            "9    unknown\n",
            "Name: mixed_type_col, dtype: object\n",
            "Valores únicos: 775\n",
            "Porcentaje de nulos: 11.19 %\n",
            "Columna 'mixed_type_col' eliminada.\n"
          ]
        }
      ],
      "source": [
        "#verificar la columna\n",
        "if \"mixed_type_col\" in df.columns:\n",
        "    print(df[\"mixed_type_col\"].head(10))\n",
        "    print(\"Valores únicos:\", df[\"mixed_type_col\"].nunique())\n",
        "    print(\"Porcentaje de nulos:\", round(df[\"mixed_type_col\"].isna().mean()*100, 2), \"%\")\n",
        "\n",
        "    #Eliminar la columna por ser ruido\n",
        "    df.drop(columns=[\"mixed_type_col\"], inplace=True)\n",
        "\n",
        "    print(\"Columna 'mixed_type_col' eliminada.\")"
      ]
    },
    {
      "cell_type": "code",
      "execution_count": 9,
      "metadata": {
        "id": "-M36HQrpUMJb"
      },
      "outputs": [],
      "source": [
        "#Categricos esperados\n",
        "cat_cols = [\n",
        "    \"gender\",\n",
        "    \"family_history_with_overweight\",\n",
        "    \"favc\",\n",
        "    \"caec\",\n",
        "    \"smoke\",\n",
        "    \"scc\",\n",
        "    \"calc\",\n",
        "    \"mtrans\",\n",
        "    \"nobeyesdad\",\n",
        "]\n",
        "for c in cat_cols:\n",
        "    df[c] = df[c].apply(clean_cat)\n",
        "\n",
        "# Numéricos esperados\n",
        "num_candidates = [\"age\",\"height\",\"weight\",\"fcvc\",\"ncp\",\"ch2o\",\"faf\",\"tue\"]\n",
        "for c in num_candidates:\n",
        "    df[c] = pd.to_numeric(df[c], errors=\"coerce\")\n"
      ]
    },
    {
      "cell_type": "code",
      "execution_count": 10,
      "metadata": {
        "colab": {
          "base_uri": "https://localhost:8080/",
          "height": 926
        },
        "id": "9L7QZVyYUQvs",
        "outputId": "ab5711c9-9fd5-4077-ed4d-6c6c25bea804"
      },
      "outputs": [
        {
          "name": "stdout",
          "output_type": "stream",
          "text": [
            "['gender', 'age', 'height', 'weight', 'family_history_with_overweight', 'favc', 'fcvc', 'ncp', 'caec', 'smoke', 'ch2o', 'scc', 'faf', 'tue', 'calc', 'mtrans', 'nobeyesdad']\n",
            "gender                             object\n",
            "age                               float64\n",
            "height                            float64\n",
            "weight                            float64\n",
            "family_history_with_overweight     object\n",
            "favc                               object\n",
            "fcvc                              float64\n",
            "ncp                               float64\n",
            "caec                               object\n",
            "smoke                              object\n",
            "ch2o                              float64\n",
            "scc                                object\n",
            "faf                               float64\n",
            "tue                               float64\n",
            "calc                               object\n",
            "mtrans                             object\n",
            "nobeyesdad                         object\n",
            "dtype: object\n",
            "gender ['Female', 'Male']\n",
            "family_history_with_overweight ['Nan', 'No', 'Yes']\n",
            "favc ['No', 'Yes']\n",
            "caec ['Always', 'Frequently', 'No', 'Sometimes']\n",
            "smoke ['Nan', 'No', 'Yes']\n",
            "scc ['No', 'Yes']\n",
            "calc ['Always', 'Frequently', 'Nan', 'No', 'Sometimes']\n",
            "mtrans ['Automobile', 'Bike', 'Motorbike', 'Public_Transportation', 'Walking']\n",
            "nobeyesdad ['Insufficient_Weight', 'Nan', 'Normal_Weight', 'Obesity_Type_I', 'Obesity_Type_Ii', 'Obesity_Type_Iii', 'Overweight_Level_I', 'Overweight_Level_Ii']\n"
          ]
        },
        {
          "data": {
            "text/plain": [
              "height    42\n",
              "tue       39\n",
              "ncp       34\n",
              "age       34\n",
              "ch2o      32\n",
              "faf       31\n",
              "fcvc      29\n",
              "weight    26\n",
              "mtrans    23\n",
              "calc      23\n",
              "dtype: int64"
            ]
          },
          "execution_count": 10,
          "metadata": {},
          "output_type": "execute_result"
        }
      ],
      "source": [
        "#nombres en snake_case y tipos\n",
        "print(df.columns.tolist())\n",
        "print(df.dtypes)\n",
        "\n",
        "#categorías limpias\n",
        "for c in cat_cols:\n",
        "    if c in df.columns:\n",
        "        print(c, sorted(df[c].dropna().unique())[:10])\n",
        "\n",
        "# Checa cuántos NaN quedan antes de imputar\n",
        "df.isna().sum().sort_values(ascending=False).head(10)\n"
      ]
    },
    {
      "cell_type": "markdown",
      "metadata": {
        "id": "aCLhZDuEgez-"
      },
      "source": [
        "#### **Imputación de valores faltantes**\n"
      ]
    },
    {
      "cell_type": "markdown",
      "metadata": {
        "id": "5JScPiyRgjGf"
      },
      "source": [
        "Los NA eran comunes en height, weight, tue, ch2o, etc.\n",
        "\n",
        "La mediana es robusta ante outliers, ideal para los datos contaminados del modified.\n",
        "\n",
        "Para categóricos, \"Unknown\" documenta la ausencia sin inventar valores.\n",
        "\n",
        "Este paso asegura que no existan valores nulos antes del modelado, cumpliendo el criterio de dataset limpio y completo."
      ]
    },
    {
      "cell_type": "code",
      "execution_count": 11,
      "metadata": {
        "id": "41jyX8AmU03T"
      },
      "outputs": [],
      "source": [
        "num_cols = df.select_dtypes(include=[np.number]).columns.tolist()\n",
        "cat_cols_now = df.select_dtypes(include=[\"object\"]).columns.tolist()\n",
        "\n",
        "for c in num_cols:\n",
        "    if df[c].isna().any():\n",
        "        df[c] = df[c].fillna(df[c].median())\n",
        "\n",
        "for c in cat_cols_now:\n",
        "    if df[c].isna().any():\n",
        "        df[c] = df[c].fillna(\"Unknown\")\n"
      ]
    },
    {
      "cell_type": "code",
      "execution_count": 12,
      "metadata": {
        "colab": {
          "base_uri": "https://localhost:8080/",
          "height": 554
        },
        "id": "KkF6k_OgVLJF",
        "outputId": "56facfd3-1be5-46a7-c645-0e135092bf5d"
      },
      "outputs": [
        {
          "data": {
            "text/plain": [
              "gender                            0\n",
              "smoke                             0\n",
              "mtrans                            0\n",
              "calc                              0\n",
              "tue                               0\n",
              "faf                               0\n",
              "scc                               0\n",
              "ch2o                              0\n",
              "caec                              0\n",
              "age                               0\n",
              "ncp                               0\n",
              "fcvc                              0\n",
              "favc                              0\n",
              "family_history_with_overweight    0\n",
              "weight                            0\n",
              "dtype: int64"
            ]
          },
          "execution_count": 12,
          "metadata": {},
          "output_type": "execute_result"
        }
      ],
      "source": [
        "df.isna().sum().sort_values(ascending=False).head(15)\n"
      ]
    },
    {
      "cell_type": "markdown",
      "metadata": {
        "id": "_z4NAcsbguqL"
      },
      "source": [
        "#### **Control de rangos (“clipping”)**"
      ]
    },
    {
      "cell_type": "markdown",
      "metadata": {
        "id": "cLrmT47Eg0Z2"
      },
      "source": [
        "Se detectaron valores imposibles (por ejemplo, height > 800, weight > 6000).\n",
        "\n",
        "El clipping restringe las variables a rangos fisiológicamente válidos, eliminando contaminación sin perder observaciones enteras.\n",
        "\n",
        "Esto restituye coherencia con los valores presentes en el dataset original."
      ]
    },
    {
      "cell_type": "code",
      "execution_count": 13,
      "metadata": {},
      "outputs": [
        {
          "data": {
            "image/png": "[encoded data removed]",
            "text/plain": [
              "<Figure size 1080x360 with 3 Axes>"
            ]
          },
          "metadata": {
            "needs_background": "light"
          },
          "output_type": "display_data"
        }
      ],
      "source": [
        "plt.figure(figsize=(15, 5))\n",
        "for i, col in enumerate(['age', 'weight', 'height'], 1):\n",
        "    plt.subplot(1, 3, i)\n",
        "    sns.boxplot(y=df[col])\n",
        "    plt.title(f'Boxplot de {col} (Antes)')\n",
        "plt.tight_layout()\n",
        "plt.show()"
      ]
    },
    {
      "cell_type": "code",
      "execution_count": 14,
      "metadata": {
        "id": "sO7hAq5lVcIC"
      },
      "outputs": [],
      "source": [
        "#definimos limites saludables\n",
        "bounds = {\n",
        "    \"age\": (10, 100),\n",
        "    \"height\": (0.9, 2.5),   # metros\n",
        "    \"weight\": (20, 300),   # kg\n",
        "}\n",
        "for col, (lo, hi) in bounds.items():\n",
        "    if col in df.columns:\n",
        "        df[col] = df[col].clip(lower=lo, upper=hi)\n"
      ]
    },
    {
      "cell_type": "code",
      "execution_count": 15,
      "metadata": {},
      "outputs": [
        {
          "data": {
            "image/png": "[encoded data removed]",
            "text/plain": [
              "<Figure size 1080x360 with 3 Axes>"
            ]
          },
          "metadata": {
            "needs_background": "light"
          },
          "output_type": "display_data"
        }
      ],
      "source": [
        "plt.figure(figsize=(15, 5))\n",
        "for i, col in enumerate(['age', 'weight', 'height'], 1):\n",
        "    plt.subplot(1, 3, i)\n",
        "    sns.boxplot(y=df[col])\n",
        "    plt.title(f'Boxplot de {col} (Después)')\n",
        "plt.tight_layout()\n",
        "plt.show()"
      ]
    },
    {
      "cell_type": "markdown",
      "metadata": {},
      "source": [
        " ---\n",
        " ## 3. Comparación Post-Limpieza\n",
        "\n",
        " Verificamos si nuestro `df` ahora coincide con `df_original`."
      ]
    },
    {
      "cell_type": "code",
      "execution_count": 16,
      "metadata": {},
      "outputs": [
        {
          "name": "stdout",
          "output_type": "stream",
          "text": [
            "Dimensiones del dataset original: (2111, 17)\n",
            "<class 'pandas.core.frame.DataFrame'>\n",
            "RangeIndex: 2111 entries, 0 to 2110\n",
            "Data columns (total 17 columns):\n",
            " #   Column                          Non-Null Count  Dtype  \n",
            "---  ------                          --------------  -----  \n",
            " 0   Gender                          2111 non-null   object \n",
            " 1   Age                             2111 non-null   float64\n",
            " 2   Height                          2111 non-null   float64\n",
            " 3   Weight                          2111 non-null   float64\n",
            " 4   family_history_with_overweight  2111 non-null   object \n",
            " 5   FAVC                            2111 non-null   object \n",
            " 6   FCVC                            2111 non-null   float64\n",
            " 7   NCP                             2111 non-null   float64\n",
            " 8   CAEC                            2111 non-null   object \n",
            " 9   SMOKE                           2111 non-null   object \n",
            " 10  CH2O                            2111 non-null   float64\n",
            " 11  SCC                             2111 non-null   object \n",
            " 12  FAF                             2111 non-null   float64\n",
            " 13  TUE                             2111 non-null   float64\n",
            " 14  CALC                            2111 non-null   object \n",
            " 15  MTRANS                          2111 non-null   object \n",
            " 16  NObeyesdad                      2111 non-null   object \n",
            "dtypes: float64(8), object(9)\n",
            "memory usage: 280.5+ KB\n"
          ]
        }
      ],
      "source": [
        "# Cargar el dataset limpio/original como referencia\n",
        "df_original = pd.read_csv(ORIGINAL_PATH)\n",
        "\n",
        "print(\"Dimensiones del dataset original:\", df_original.shape)\n",
        "df_original.info()\n"
      ]
    },
    {
      "cell_type": "code",
      "execution_count": 17,
      "metadata": {},
      "outputs": [
        {
          "name": "stdout",
          "output_type": "stream",
          "text": [
            "Dimensiones del dataset limpiado: (2153, 17)\n",
            "Dimensiones del dataset original: (2111, 17)\n",
            "\n",
            "Los dataframes no son idénticos. Se necesita más revisión. ❌\n"
          ]
        }
      ],
      "source": [
        "print(\"Dimensiones del dataset limpiado:\", df.shape)\n",
        "print(\"Dimensiones del dataset original:\", df_original.shape)\n",
        "\n",
        "# Comparamos si los dataframes son iguales (requiere que tengan el mismo orden y tipos)\n",
        "# Para una comparación robusta, ordenamos ambos y reseteamos el índice.\n",
        "df_sorted = df[df.columns].sort_values(by=list(df.columns)).reset_index(drop=True)\n",
        "df_original_sorted = df_original.sort_values(by=list(df_original.columns)).reset_index(drop=True)\n",
        "\n",
        "# Comprobamos igualdad\n",
        "if df_sorted.equals(df_original_sorted):\n",
        "    print(\"\\n¡Éxito! El dataframe limpiado es idéntico al original. ✅\")\n",
        "else:\n",
        "    print(\"\\nLos dataframes no son idénticos. Se necesita más revisión. ❌\")\n",
        "    # Podemos investigar las diferencias\n",
        "    #diff = df.compare(df_original)\n",
        "    #print(diff)"
      ]
    },
    {
      "cell_type": "markdown",
      "metadata": {
        "id": "9LG7OInMg3ip"
      },
      "source": [
        "#### **Guardado del dataset limpio**"
      ]
    },
    {
      "cell_type": "markdown",
      "metadata": {
        "id": "nOAUoIW4g7hy"
      },
      "source": [
        "Permite auditar y versionar los cambios, se considera la versión oficial de datos"
      ]
    },
    {
      "cell_type": "code",
      "execution_count": 18,
      "metadata": {
        "colab": {
          "base_uri": "https://localhost:8080/"
        },
        "id": "oCQRCtpyVeyp",
        "outputId": "4b546aac-b430-4cf1-f6de-7aa094a25f75"
      },
      "outputs": [
        {
          "name": "stdout",
          "output_type": "stream",
          "text": [
            "Saved: /home/gerardo/maestria/mlops/MLOps_Equipo60/data/processed/obesity_clean.csv\n"
          ]
        }
      ],
      "source": [
        "\n",
        "df.to_csv(CLEAN_PATH, index=False)\n",
        "print(\"Saved:\", CLEAN_PATH.resolve())\n"
      ]
    },
    {
      "cell_type": "markdown",
      "metadata": {},
      "source": [
        " ---\n",
        " ## 4. Análisis Exploratorio de Datos (EDA) - Dataset Limpio\n",
        "\n",
        " Ahora que tenemos datos limpios y validados, podemos explorarlos para encontrar patrones."
      ]
    },
    {
      "cell_type": "markdown",
      "metadata": {},
      "source": [
        " #### Análisis Univariado\n",
        "\n",
        " Analizamos cada variable de forma individual."
      ]
    },
    {
      "cell_type": "code",
      "execution_count": 19,
      "metadata": {},
      "outputs": [
        {
          "data": {
            "image/png": "[encoded data removed]",
            "text/plain": [
              "<Figure size 864x504 with 1 Axes>"
            ]
          },
          "metadata": {
            "needs_background": "light"
          },
          "output_type": "display_data"
        }
      ],
      "source": [
        "# Distribución de la variable objetivo\n",
        "plt.figure(figsize=(12, 7))\n",
        "sns.countplot(y=df['nobeyesdad'], order = df['nobeyesdad'].value_counts().index)\n",
        "plt.title('Distribución de la Variable Objetivo (nobeyesdad)', fontsize=16)\n",
        "plt.xlabel('Cantidad de Registros')\n",
        "plt.ylabel('Nivel de Obesidad')\n",
        "plt.show()\n"
      ]
    },
    {
      "cell_type": "markdown",
      "metadata": {},
      "source": [
        " **Observación**: Como se mencionó en el paper de origen, las clases están balanceadas gracias al uso de SMOTE. Esto es excelente para el entrenamiento de los modelos."
      ]
    },
    {
      "cell_type": "code",
      "execution_count": 20,
      "metadata": {},
      "outputs": [
        {
          "data": {
            "image/png": "[encoded data removed]",
            "text/plain": [
              "<Figure size 1080x864 with 9 Axes>"
            ]
          },
          "metadata": {
            "needs_background": "light"
          },
          "output_type": "display_data"
        }
      ],
      "source": [
        "# Distribución de variables numéricas\n",
        "df.hist(figsize=(15, 12), bins=20)\n",
        "plt.suptitle('Histogramas de Variables Numéricas', size=20)\n",
        "plt.tight_layout(rect=[0, 0, 1, 0.96])\n",
        "plt.show()\n"
      ]
    },
    {
      "cell_type": "markdown",
      "metadata": {},
      "source": [
        "#### Análisis Bivariado\n",
        "\n",
        " Buscamos relaciones entre las variables predictoras y la variable objetivo."
      ]
    },
    {
      "cell_type": "code",
      "execution_count": 21,
      "metadata": {},
      "outputs": [
        {
          "data": {
            "image/png": "[encoded data removed]",
            "text/plain": [
              "<Figure size 864x720 with 2 Axes>"
            ]
          },
          "metadata": {
            "needs_background": "light"
          },
          "output_type": "display_data"
        }
      ],
      "source": [
        "# Correlación entre variables numéricas\n",
        "plt.figure(figsize=(12, 10))\n",
        "correlation_matrix = df.select_dtypes(include=np.number).corr()\n",
        "sns.heatmap(correlation_matrix, annot=True, cmap='coolwarm', fmt=\".2f\")\n",
        "plt.title('Mapa de Calor de Correlación Numérica', fontsize=16)\n",
        "plt.show()\n"
      ]
    },
    {
      "cell_type": "code",
      "execution_count": 22,
      "metadata": {},
      "outputs": [
        {
          "data": {
            "image/png": "[encoded data removed]",
            "text/plain": [
              "<Figure size 1080x432 with 1 Axes>"
            ]
          },
          "metadata": {
            "needs_background": "light"
          },
          "output_type": "display_data"
        }
      ],
      "source": [
        "# Relación entre Hábitos Alimenticios y Obesidad\n",
        "plt.figure(figsize=(15, 6))\n",
        "sns.countplot(x='favc', hue='nobeyesdad', data=df)\n",
        "plt.title('Consumo Frecuente de Comida Calórica (FAVC) vs Nivel de Obesidad')\n",
        "plt.legend(title='Nivel de Obesidad', bbox_to_anchor=(1.05, 1), loc='upper left')\n",
        "plt.show()\n"
      ]
    },
    {
      "cell_type": "code",
      "execution_count": 23,
      "metadata": {},
      "outputs": [
        {
          "data": {
            "image/png": "[encoded data removed]",
            "text/plain": [
              "<Figure size 1080x504 with 1 Axes>"
            ]
          },
          "metadata": {
            "needs_background": "light"
          },
          "output_type": "display_data"
        }
      ],
      "source": [
        "# Relación entre Transporte y Obesidad\n",
        "plt.figure(figsize=(15, 7))\n",
        "sns.countplot(x='mtrans', hue='nobeyesdad', data=df)\n",
        "plt.title('Medio de Transporte (MTRANS) vs Nivel de Obesidad')\n",
        "plt.xticks(rotation=45)\n",
        "plt.legend(title='Nivel de Obesidad', bbox_to_anchor=(1.05, 1), loc='upper left')\n",
        "plt.show()\n"
      ]
    },
    {
      "cell_type": "markdown",
      "metadata": {},
      "source": [
        " ---\n",
        "## 5. Preprocesamiento para Modelado\n",
        "\n",
        "Preparamos los datos para que puedan ser utilizados por algoritmos de Machine Learning."
      ]
    },
    {
      "cell_type": "markdown",
      "metadata": {
        "id": "BbcyPptihEEO"
      },
      "source": [
        "Los algoritmos de ML requieren variables numéricas.\n",
        "\n",
        "El One-Hot Encoding convierte categóricas a columnas binarias (sin multicolinealidad gracias a drop_first=True).\n",
        "\n",
        "El label encoding del target transforma la etiqueta en entero, permitiendo entrenamiento supervisado.\n",
        "\n",
        "Generar ml_ready.csv asegura que el Data Scientist y ML Engineer puedan trabajar sin rehacer transformaciones."
      ]
    },
    {
      "cell_type": "code",
      "execution_count": 24,
      "metadata": {
        "colab": {
          "base_uri": "https://localhost:8080/"
        },
        "id": "_AoxpLjbVirT",
        "outputId": "5a2bd95f-c524-464f-bd0f-c95651f80563"
      },
      "outputs": [
        {
          "name": "stdout",
          "output_type": "stream",
          "text": [
            "Saved: /home/gerardo/maestria/mlops/MLOps_Equipo60/data/processed/label_map_nobeyesdad.csv\n",
            "Saved: /home/gerardo/maestria/mlops/MLOps_Equipo60/data/processed/obesity_ml_ready.csv\n"
          ]
        }
      ],
      "source": [
        "# Dataset listo para ML\n",
        "target_col = \"nobeyesdad\" if \"nobeyesdad\" in df.columns else None\n",
        "\n",
        "# One-hot para todos los categóricos excepto el target\n",
        "cat_for_ohe = [c for c in df.select_dtypes(include=[\"object\"]).columns if c != target_col]\n",
        "ml_df = pd.get_dummies(df, columns=cat_for_ohe, drop_first=True)\n",
        "\n",
        "# Label encoding del target\n",
        "if target_col:\n",
        "    labels = {label: idx for idx, label in enumerate(sorted(df[target_col].unique()))}\n",
        "    ml_df[\"target_nobeyesdad\"] = df[target_col].map(labels)\n",
        "    pd.DataFrame(list(labels.items()), columns=[\"label\",\"id\"]).sort_values(\"id\").to_csv(LABEL_MAP_PATH, index=False)\n",
        "    print(\"Saved:\", LABEL_MAP_PATH.resolve())\n",
        "\n",
        "ml_df.to_csv(ML_READY_PATH, index=False)\n",
        "print(\"Saved:\", ML_READY_PATH.resolve())\n"
      ]
    },
    {
      "cell_type": "code",
      "execution_count": 26,
      "metadata": {
        "colab": {
          "base_uri": "https://localhost:8080/"
        },
        "id": "YxR9yGwrWVtv",
        "outputId": "5a32b0d3-47a1-4a11-e8cc-069c0fe9e714"
      },
      "outputs": [
        {
          "name": "stdout",
          "output_type": "stream",
          "text": [
            "Diccionario de datos generado y guardado.\n"
          ]
        }
      ],
      "source": [
        "# --- Generar Diccionario de Datos ---\n",
        "data_dict = pd.DataFrame({\n",
        "    \"Column\": df.columns,\n",
        "    \"DataType\": df.dtypes.astype(str),\n",
        "    \"Description\": [\n",
        "        \"Sexo de la persona (Male/Female)\" if c == \"gender\" else\n",
        "        \"Edad en años\" if c == \"age\" else\n",
        "        \"Altura en metros\" if c == \"height\" else\n",
        "        \"Peso en kilogramos\" if c == \"weight\" else\n",
        "        \"Historial familiar de sobrepeso\" if c == \"family_history_with_overweight\" else\n",
        "        \"Consumo frecuente de comida rápida\" if c == \"favc\" else\n",
        "        \"Consumo de vegetales\" if c == \"fcvc\" else\n",
        "        \"Número de comidas principales\" if c == \"ncp\" else\n",
        "        \"Consumo de snacks entre comidas\" if c == \"caec\" else\n",
        "        \"Hábito de fumar\" if c == \"smoke\" else\n",
        "        \"Consumo de agua (litros/día)\" if c == \"ch2o\" else\n",
        "        \"Monitorización de calorías diarias\" if c == \"scc\" else\n",
        "        \"Actividad física semanal (horas)\" if c == \"faf\" else\n",
        "        \"Tiempo frente a pantallas (horas/día)\" if c == \"tue\" else\n",
        "        \"Consumo de alcohol\" if c == \"calc\" else\n",
        "        \"Medio de transporte principal\" if c == \"mtrans\" else\n",
        "        \"Nivel de obesidad (target)\" if c == \"nobeyesdad\" else\n",
        "        \"Variable generada en la etapa de codificación / features dummy\"\n",
        "        for c in df.columns\n",
        "    ]\n",
        "})\n",
        "\n",
        "# Guardar\n",
        "data_dict.to_csv(DATA_DICT_PATH, index=False)\n",
        "print(\"Diccionario de datos generado y guardado.\")\n"
      ]
    },
    {
      "cell_type": "code",
      "execution_count": 27,
      "metadata": {
        "colab": {
          "base_uri": "https://localhost:8080/"
        },
        "id": "9OCDMfCJVssO",
        "outputId": "65a8321a-9e37-4bfc-bfc9-933a8a84f5f8"
      },
      "outputs": [
        {
          "name": "stdout",
          "output_type": "stream",
          "text": [
            "Saved train/test split in: /home/gerardo/maestria/mlops/MLOps_Equipo60/data/processed\n"
          ]
        }
      ],
      "source": [
        "from sklearn.model_selection import train_test_split\n",
        "\n",
        "if \"target_nobeyesdad\" in ml_df.columns:\n",
        "    X = ml_df.drop(columns=[\"target_nobeyesdad\"])\n",
        "    y = ml_df[\"target_nobeyesdad\"]\n",
        "    X_train, X_test, y_train, y_test = train_test_split(\n",
        "        X, y, test_size=0.2, random_state=42, stratify=y\n",
        "    )\n",
        "    X_train.to_csv(OUT_DIR/\"X_train.csv\", index=False)\n",
        "    X_test.to_csv(OUT_DIR/\"X_test.csv\", index=False)\n",
        "    y_train.to_csv(OUT_DIR/\"y_train.csv\", index=False)\n",
        "    y_test.to_csv(OUT_DIR/\"y_test.csv\", index=False)\n",
        "    print(\"Saved train/test split in:\", OUT_DIR.resolve())\n"
      ]
    },
    {
      "cell_type": "code",
      "execution_count": 28,
      "metadata": {
        "colab": {
          "base_uri": "https://localhost:8080/"
        },
        "id": "hmoRYontVycM",
        "outputId": "bd3ef747-c187-448a-892e-c13b66c2800b"
      },
      "outputs": [
        {
          "name": "stdout",
          "output_type": "stream",
          "text": [
            "(2153, 36)\n"
          ]
        }
      ],
      "source": [
        "print(ml_df.shape)"
      ]
    },
    {
      "cell_type": "code",
      "execution_count": 29,
      "metadata": {
        "colab": {
          "base_uri": "https://localhost:8080/"
        },
        "id": "oJ5sujEcXnHW",
        "outputId": "4925abd5-368e-4d73-8c4e-8e2c69d3d18f"
      },
      "outputs": [
        {
          "name": "stdout",
          "output_type": "stream",
          "text": [
            "age                                       float64\n",
            "height                                    float64\n",
            "weight                                    float64\n",
            "fcvc                                      float64\n",
            "ncp                                       float64\n",
            "ch2o                                      float64\n",
            "faf                                       float64\n",
            "tue                                       float64\n",
            "nobeyesdad                                 object\n",
            "gender_Male                                 uint8\n",
            "gender_Unknown                              uint8\n",
            "family_history_with_overweight_No           uint8\n",
            "family_history_with_overweight_Unknown      uint8\n",
            "family_history_with_overweight_Yes          uint8\n",
            "favc_Unknown                                uint8\n",
            "dtype: object\n"
          ]
        }
      ],
      "source": [
        "print(ml_df.dtypes.head(15))"
      ]
    },
    {
      "cell_type": "code",
      "execution_count": 30,
      "metadata": {
        "colab": {
          "base_uri": "https://localhost:8080/"
        },
        "id": "1hppwhp1XqPZ",
        "outputId": "b0269693-a446-421e-d0bd-fbdc6f6156f8"
      },
      "outputs": [
        {
          "name": "stdout",
          "output_type": "stream",
          "text": [
            "0\n"
          ]
        }
      ],
      "source": [
        "print(ml_df.isna().sum().sum())  # debería dar 0"
      ]
    },
    {
      "cell_type": "code",
      "execution_count": 31,
      "metadata": {
        "colab": {
          "base_uri": "https://localhost:8080/",
          "height": 235
        },
        "id": "5RtwqUnpXsdE",
        "outputId": "f7435866-d91f-4891-a7c9-ed4adab7e3b3"
      },
      "outputs": [
        {
          "data": {
            "text/html": [
              "<div>\n",
              "<style scoped>\n",
              "    .dataframe tbody tr th:only-of-type {\n",
              "        vertical-align: middle;\n",
              "    }\n",
              "\n",
              "    .dataframe tbody tr th {\n",
              "        vertical-align: top;\n",
              "    }\n",
              "\n",
              "    .dataframe thead th {\n",
              "        text-align: right;\n",
              "    }\n",
              "</style>\n",
              "<table border=\"1\" class=\"dataframe\">\n",
              "  <thead>\n",
              "    <tr style=\"text-align: right;\">\n",
              "      <th></th>\n",
              "      <th>age</th>\n",
              "      <th>height</th>\n",
              "      <th>weight</th>\n",
              "      <th>fcvc</th>\n",
              "      <th>ncp</th>\n",
              "      <th>ch2o</th>\n",
              "      <th>faf</th>\n",
              "      <th>tue</th>\n",
              "      <th>nobeyesdad</th>\n",
              "      <th>gender_Male</th>\n",
              "      <th>...</th>\n",
              "      <th>calc_Nan</th>\n",
              "      <th>calc_No</th>\n",
              "      <th>calc_Sometimes</th>\n",
              "      <th>calc_Unknown</th>\n",
              "      <th>mtrans_Bike</th>\n",
              "      <th>mtrans_Motorbike</th>\n",
              "      <th>mtrans_Public_Transportation</th>\n",
              "      <th>mtrans_Unknown</th>\n",
              "      <th>mtrans_Walking</th>\n",
              "      <th>target_nobeyesdad</th>\n",
              "    </tr>\n",
              "  </thead>\n",
              "  <tbody>\n",
              "    <tr>\n",
              "      <th>0</th>\n",
              "      <td>21.0</td>\n",
              "      <td>1.62</td>\n",
              "      <td>64.0</td>\n",
              "      <td>2.0</td>\n",
              "      <td>3.0</td>\n",
              "      <td>2.0</td>\n",
              "      <td>0.0</td>\n",
              "      <td>1.0</td>\n",
              "      <td>Normal_Weight</td>\n",
              "      <td>0</td>\n",
              "      <td>...</td>\n",
              "      <td>0</td>\n",
              "      <td>1</td>\n",
              "      <td>0</td>\n",
              "      <td>0</td>\n",
              "      <td>0</td>\n",
              "      <td>0</td>\n",
              "      <td>1</td>\n",
              "      <td>0</td>\n",
              "      <td>0</td>\n",
              "      <td>2</td>\n",
              "    </tr>\n",
              "    <tr>\n",
              "      <th>1</th>\n",
              "      <td>21.0</td>\n",
              "      <td>1.52</td>\n",
              "      <td>56.0</td>\n",
              "      <td>3.0</td>\n",
              "      <td>3.0</td>\n",
              "      <td>3.0</td>\n",
              "      <td>3.0</td>\n",
              "      <td>0.0</td>\n",
              "      <td>Normal_Weight</td>\n",
              "      <td>0</td>\n",
              "      <td>...</td>\n",
              "      <td>0</td>\n",
              "      <td>0</td>\n",
              "      <td>1</td>\n",
              "      <td>0</td>\n",
              "      <td>0</td>\n",
              "      <td>0</td>\n",
              "      <td>1</td>\n",
              "      <td>0</td>\n",
              "      <td>0</td>\n",
              "      <td>2</td>\n",
              "    </tr>\n",
              "    <tr>\n",
              "      <th>2</th>\n",
              "      <td>23.0</td>\n",
              "      <td>1.80</td>\n",
              "      <td>77.0</td>\n",
              "      <td>2.0</td>\n",
              "      <td>3.0</td>\n",
              "      <td>2.0</td>\n",
              "      <td>2.0</td>\n",
              "      <td>1.0</td>\n",
              "      <td>Normal_Weight</td>\n",
              "      <td>1</td>\n",
              "      <td>...</td>\n",
              "      <td>0</td>\n",
              "      <td>0</td>\n",
              "      <td>0</td>\n",
              "      <td>0</td>\n",
              "      <td>0</td>\n",
              "      <td>0</td>\n",
              "      <td>1</td>\n",
              "      <td>0</td>\n",
              "      <td>0</td>\n",
              "      <td>2</td>\n",
              "    </tr>\n",
              "    <tr>\n",
              "      <th>3</th>\n",
              "      <td>27.0</td>\n",
              "      <td>1.80</td>\n",
              "      <td>87.0</td>\n",
              "      <td>3.0</td>\n",
              "      <td>3.0</td>\n",
              "      <td>2.0</td>\n",
              "      <td>2.0</td>\n",
              "      <td>0.0</td>\n",
              "      <td>Overweight_Level_I</td>\n",
              "      <td>1</td>\n",
              "      <td>...</td>\n",
              "      <td>0</td>\n",
              "      <td>0</td>\n",
              "      <td>0</td>\n",
              "      <td>0</td>\n",
              "      <td>0</td>\n",
              "      <td>0</td>\n",
              "      <td>0</td>\n",
              "      <td>0</td>\n",
              "      <td>1</td>\n",
              "      <td>6</td>\n",
              "    </tr>\n",
              "    <tr>\n",
              "      <th>4</th>\n",
              "      <td>22.0</td>\n",
              "      <td>1.78</td>\n",
              "      <td>89.8</td>\n",
              "      <td>2.0</td>\n",
              "      <td>1.0</td>\n",
              "      <td>2.0</td>\n",
              "      <td>0.0</td>\n",
              "      <td>0.0</td>\n",
              "      <td>Overweight_Level_Ii</td>\n",
              "      <td>1</td>\n",
              "      <td>...</td>\n",
              "      <td>0</td>\n",
              "      <td>0</td>\n",
              "      <td>1</td>\n",
              "      <td>0</td>\n",
              "      <td>0</td>\n",
              "      <td>0</td>\n",
              "      <td>1</td>\n",
              "      <td>0</td>\n",
              "      <td>0</td>\n",
              "      <td>7</td>\n",
              "    </tr>\n",
              "  </tbody>\n",
              "</table>\n",
              "<p>5 rows × 36 columns</p>\n",
              "</div>"
            ],
            "text/plain": [
              "    age  height  weight  fcvc  ncp  ch2o  faf  tue           nobeyesdad  \\\n",
              "0  21.0    1.62    64.0   2.0  3.0   2.0  0.0  1.0        Normal_Weight   \n",
              "1  21.0    1.52    56.0   3.0  3.0   3.0  3.0  0.0        Normal_Weight   \n",
              "2  23.0    1.80    77.0   2.0  3.0   2.0  2.0  1.0        Normal_Weight   \n",
              "3  27.0    1.80    87.0   3.0  3.0   2.0  2.0  0.0   Overweight_Level_I   \n",
              "4  22.0    1.78    89.8   2.0  1.0   2.0  0.0  0.0  Overweight_Level_Ii   \n",
              "\n",
              "   gender_Male  ...  calc_Nan  calc_No  calc_Sometimes  calc_Unknown  \\\n",
              "0            0  ...         0        1               0             0   \n",
              "1            0  ...         0        0               1             0   \n",
              "2            1  ...         0        0               0             0   \n",
              "3            1  ...         0        0               0             0   \n",
              "4            1  ...         0        0               1             0   \n",
              "\n",
              "   mtrans_Bike  mtrans_Motorbike  mtrans_Public_Transportation  \\\n",
              "0            0                 0                             1   \n",
              "1            0                 0                             1   \n",
              "2            0                 0                             1   \n",
              "3            0                 0                             0   \n",
              "4            0                 0                             1   \n",
              "\n",
              "   mtrans_Unknown  mtrans_Walking  target_nobeyesdad  \n",
              "0               0               0                  2  \n",
              "1               0               0                  2  \n",
              "2               0               0                  2  \n",
              "3               0               1                  6  \n",
              "4               0               0                  7  \n",
              "\n",
              "[5 rows x 36 columns]"
            ]
          },
          "execution_count": 31,
          "metadata": {},
          "output_type": "execute_result"
        }
      ],
      "source": [
        "ml_df.head()"
      ]
    }
  ],
  "metadata": {
    "colab": {
      "provenance": []
    },
    "kernelspec": {
      "display_name": "Python 3",
      "name": "python3"
    },
    "language_info": {
      "codemirror_mode": {
        "name": "ipython",
        "version": 3
      },
      "file_extension": ".py",
      "mimetype": "text/x-python",
      "name": "python",
      "nbconvert_exporter": "python",
      "pygments_lexer": "ipython3",
      "version": "3.9.12"
    }
  },
  "nbformat": 4,
  "nbformat_minor": 0
}
